{
 "cells": [
  {
   "cell_type": "code",
   "execution_count": 1,
   "metadata": {
    "collapsed": false
   },
   "outputs": [],
   "source": [
    "import numpy as np, h5py\n",
    "import sys\n",
    "import os\n",
    "import tarfile\n",
    "import time\n",
    "import gc\n",
    "import matplotlib.pyplot as plt\n",
    "from matplotlib.font_manager import FontProperties\n",
    "import random\n",
    "from IPython.display import display, Image\n",
    "from scipy import ndimage\n",
    "from skimage.transform import resize\n",
    "from six.moves.urllib.request import urlretrieve\n",
    "from six.moves import cPickle as pickle\n",
    "from PIL import Image, ImageDraw, ImageFont\n",
    "from tqdm import tqdm, tnrange, tqdm_notebook\n",
    "from math import log"
   ]
  },
  {
   "cell_type": "code",
   "execution_count": 2,
   "metadata": {
    "collapsed": true
   },
   "outputs": [],
   "source": [
    "f = h5py.File(r'/home/hanu/dataset/svhn/f1/train/digitStruct.mat', 'r')"
   ]
  },
  {
   "cell_type": "code",
   "execution_count": 8,
   "metadata": {
    "collapsed": false
   },
   "outputs": [
    {
     "name": "stdout",
     "output_type": "stream",
     "text": [
      "bbox\n",
      "name\n"
     ]
    }
   ],
   "source": [
    "for k in f['digitStruct'].keys():\n",
    "    print(k)"
   ]
  },
  {
   "cell_type": "code",
   "execution_count": 2,
   "metadata": {
    "collapsed": true
   },
   "outputs": [],
   "source": [
    "path = r'/home/hanu/dataset/svhn/f1/'"
   ]
  },
  {
   "cell_type": "code",
   "execution_count": 8,
   "metadata": {
    "collapsed": false
   },
   "outputs": [
    {
     "name": "stdout",
     "output_type": "stream",
     "text": [
      "/home/hanu/dataset/svhn/f1/\n"
     ]
    }
   ],
   "source": [
    "print(path)"
   ]
  },
  {
   "cell_type": "code",
   "execution_count": 3,
   "metadata": {
    "collapsed": false
   },
   "outputs": [
    {
     "name": "stdout",
     "output_type": "stream",
     "text": [
      "/home/hanu/dataset/svhn/f1/temp_data\n",
      "/home/hanu/dataset/svhn/f1/synthetic_data\n"
     ]
    }
   ],
   "source": [
    "directory = path\n",
    "\n",
    "temp_directory = os.path.join(directory,\"temp_data\")\n",
    "print(temp_directory)\n",
    "if not os.path.exists(temp_directory):\n",
    "    os.makedirs(temp_directory)\n",
    "\n",
    "synthetic_data_directory = os.path.join(directory,\"synthetic_data\")\n",
    "print(synthetic_data_directory)\n",
    "if not os.path.exists(synthetic_data_directory):\n",
    "    os.makedirs(synthetic_data_directory)"
   ]
  },
  {
   "cell_type": "code",
   "execution_count": 4,
   "metadata": {
    "collapsed": true
   },
   "outputs": [],
   "source": [
    "def merge_two_dicts(x, y):\n",
    "    '''Given two dicts, merge them into a new dict as a shallow copy.'''\n",
    "    z = x.copy()\n",
    "    z.update(y)\n",
    "    return z\n",
    "\n",
    "def calculate_total_bbox(digit_bboxes):\n",
    "    lefts = set()\n",
    "    tops = set()\n",
    "    bottoms = set()\n",
    "    rights = set()\n",
    "    full_number_list = []\n",
    "    # some code to populate the sets\n",
    "    for bbox in digit_bboxes:\n",
    "        lefts.add(bbox['left'])\n",
    "        rights.add(bbox['left']+bbox['width'])\n",
    "        bottoms.add(bbox['top']+bbox['height'])\n",
    "        tops.add(bbox['top'])\n",
    "        full_number_list.append(str(int(bbox['label'])))\n",
    "    full_number = int(''.join(full_number_list))\n",
    "    return {'left':min(lefts), 'top':min(tops), 'right':max(rights), 'bottom':max(bottoms),'label':full_number}\n",
    "\n",
    "\n",
    "# Credits to https://github.com/hangyao/ for the below class DigitStructFile, I modified it slightly for my needs\n",
    "\n",
    "# The DigitStructFile is just a wrapper around the h5py data.  It basically references \n",
    "#    inf:              The input h5 matlab file\n",
    "#    digitStructName   The h5 ref to all the file names\n",
    "#    digitStructBbox   The h5 ref to all struc data\n",
    "class DigitStructFile:\n",
    "    def __init__(self, inf):\n",
    "        self.inf = h5py.File(inf, 'r')\n",
    "        self.digitStructName = self.inf['digitStruct']['name']\n",
    "        self.digitStructBbox = self.inf['digitStruct']['bbox']\n",
    "\n",
    "# getName returns the 'name' string for for the n(th) digitStruct. \n",
    "    def getName(self,n):\n",
    "        return ''.join([chr(c[0]) for c in self.inf[self.digitStructName[n][0]].value])\n",
    "\n",
    "# bboxHelper handles the coding difference when there is exactly one bbox or an array of bbox. \n",
    "    def bboxHelper(self,attr):\n",
    "        if (len(attr) > 1):\n",
    "            attr = [self.inf[attr.value[j].item()].value[0][0] for j in range(len(attr))]\n",
    "        else:\n",
    "            attr = [attr.value[0][0]]\n",
    "        return attr\n",
    "\n",
    "# getBbox returns a dict of data for the n(th) bbox. \n",
    "    def getBbox(self,n):\n",
    "        bbox = {}\n",
    "        bb = self.digitStructBbox[n].item()\n",
    "        bbox['height'] = self.bboxHelper(self.inf[bb][\"height\"])\n",
    "        bbox['label'] = self.bboxHelper(self.inf[bb][\"label\"])\n",
    "        bbox['left'] = self.bboxHelper(self.inf[bb][\"left\"])\n",
    "        bbox['top'] = self.bboxHelper(self.inf[bb][\"top\"])\n",
    "        bbox['width'] = self.bboxHelper(self.inf[bb][\"width\"])\n",
    "        return bbox\n",
    "\n",
    "    def getDigitStructure(self,n):\n",
    "        s = self.getBbox(n)\n",
    "        s['name']=self.getName(n)\n",
    "        return s\n",
    "# getAllDigitStructure returns all the digitStruct from the input file.     \n",
    "    def getAllDigitStructure(self):\n",
    "        return [self.getDigitStructure(i) for i in range(len(self.digitStructName))]\n",
    "        #return [self.getDigitStructure(i) for i in range(10)]\n",
    "\n",
    "# Return a restructured version of the dataset (one structure by boxed digit).\n",
    "#\n",
    "#   Return a list of such dicts :\n",
    "#      'filename' : filename of the samples\n",
    "#      'boxes' : list of such dicts (one by digit) :\n",
    "#          'label' : 1 to 9 corresponding digits. 10 for digit '0' in image.\n",
    "#          'left', 'top' : position of bounding box\n",
    "#          'width', 'height' : dimension of bounding box\n",
    "#\n",
    "# Note: We may turn this to a generator, if memory issues arise.\n",
    "    def getAllDigitStructure_ByDigit(self):\n",
    "        pictDat = self.getAllDigitStructure()\n",
    "        result = []\n",
    "        structCnt = 1\n",
    "        for i in range(len(pictDat)):\n",
    "            item = { 'filename' : pictDat[i][\"name\"] }\n",
    "            figures = []\n",
    "            for j in range(len(pictDat[i]['height'])):\n",
    "                figure = {}\n",
    "                figure['height'] = pictDat[i]['height'][j]\n",
    "                figure['label']  = pictDat[i]['label'][j]\n",
    "                figure['left']   = pictDat[i]['left'][j]\n",
    "                figure['top']    = pictDat[i]['top'][j]\n",
    "                figure['width']  = pictDat[i]['width'][j]\n",
    "                figures.append(figure)\n",
    "            structCnt = structCnt + 1\n",
    "            item['boxes'] = figures\n",
    "            result.append(item)\n",
    "        result2 = reduce(lambda d1,d2: merge_two_dicts(d1,d2),\n",
    "            map(lambda x: {x['filename']: calculate_total_bbox(x['boxes'])},\n",
    "            result))\n",
    "        return result2"
   ]
  },
  {
   "cell_type": "code",
   "execution_count": 5,
   "metadata": {
    "collapsed": false
   },
   "outputs": [
    {
     "data": {
      "text/plain": [
       "False"
      ]
     },
     "execution_count": 5,
     "metadata": {},
     "output_type": "execute_result"
    }
   ],
   "source": [
    "os.path.exists(os.path.join(temp_directory,\"digitStruct.mat\"))"
   ]
  },
  {
   "cell_type": "code",
   "execution_count": 6,
   "metadata": {
    "collapsed": false
   },
   "outputs": [],
   "source": [
    "#\"\"\"Create the bounding box picle files if not present\"\"\"\n",
    "def maybe_extract_bounding_box_data():\n",
    "    if not (os.path.exists(os.path.join(temp_directory,\"test_bboxes.pickle\")) and os.path.exists(os.path.join(temp_directory,\"train_bboxes.pickle\"))):\n",
    "        # Extract the total bounding box data for the test set and save to a Pickle file for use later\n",
    "        print(\"Starting to extract the bounding box data for the Test set\")\n",
    "        dsf = DigitStructFile(os.path.join(directory,\"test\",\"digitStruct.mat\"))\n",
    "        bbox_data = dsf.getAllDigitStructure_ByDigit()\n",
    "        print(\"....The number of bounding box records for the Test set is : \"+ str(len(bbox_data)))\n",
    "\n",
    "        set_filename = os.path.join(temp_directory,\"test_bboxes.pickle\")\n",
    "        try:\n",
    "            with open(set_filename, 'wb') as f:\n",
    "                pickle.dump(bbox_data, f, pickle.HIGHEST_PROTOCOL)\n",
    "        except Exception as e:\n",
    "            print('Unable to save data to', set_filename, ':', e)\n",
    "        print(\"....pickled complete Test bbox data set\")\n",
    "\n",
    "\n",
    "        # Extract the total bounding box data for the train set and save to a Pickle file for use later\n",
    "        print(\"Starting to extract the bounding box data for the Train set\")\n",
    "        dsf = DigitStructFile(os.path.join(directory,\"train\",\"digitStruct.mat\"))\n",
    "        bbox_data = dsf.getAllDigitStructure_ByDigit()\n",
    "        print(\"....The number of bounding box records for the Train set is : \"+ str(len(bbox_data)))\n",
    "\n",
    "        set_filename = os.path.join(temp_directory,\"train_bboxes.pickle\")\n",
    "        try:\n",
    "            with open(set_filename, 'wb') as f:\n",
    "                pickle.dump(bbox_data, f, pickle.HIGHEST_PROTOCOL)\n",
    "        except Exception as e:\n",
    "            print('Unable to save data to', set_filename, ':', e)\n",
    "        print(\"....pickled complete Train bbox data set\")\n",
    "\n",
    "    else:\n",
    "        print(\"The Digit structs have already been extracted into pickle files for the train and test data\")\n",
    "    return \"Done\""
   ]
  },
  {
   "cell_type": "code",
   "execution_count": 11,
   "metadata": {
    "collapsed": false
   },
   "outputs": [
    {
     "name": "stdout",
     "output_type": "stream",
     "text": [
      "Starting to extract the bounding box data for the Test set\n",
      "....The number of bounding box records for the Test set is : 13068\n",
      "....pickled complete Test bbox data set\n",
      "Starting to extract the bounding box data for the Train set\n",
      "....The number of bounding box records for the Train set is : 33402\n",
      "....pickled complete Train bbox data set\n"
     ]
    },
    {
     "data": {
      "text/plain": [
       "'Done'"
      ]
     },
     "execution_count": 11,
     "metadata": {},
     "output_type": "execute_result"
    }
   ],
   "source": [
    "maybe_extract_bounding_box_data()"
   ]
  },
  {
   "cell_type": "code",
   "execution_count": 12,
   "metadata": {
    "collapsed": true
   },
   "outputs": [],
   "source": [
    "test_bbox_info_file = open(os.path.join(temp_directory,\"test_bboxes.pickle\"),'r')\n",
    "test_bboxes_dict = pickle.load(test_bbox_info_file)\n",
    "\n",
    "train_bbox_info_file = open(os.path.join(temp_directory,\"train_bboxes.pickle\"),'r')\n",
    "train_bboxes_dict = pickle.load(train_bbox_info_file)"
   ]
  },
  {
   "cell_type": "code",
   "execution_count": 15,
   "metadata": {
    "collapsed": false
   },
   "outputs": [],
   "source": [
    "test_folder = os.path.join(directory,\"test\")\n",
    "train_folder = os.path.join(directory,\"train\")"
   ]
  },
  {
   "cell_type": "code",
   "execution_count": 18,
   "metadata": {
    "collapsed": false
   },
   "outputs": [
    {
     "name": "stdout",
     "output_type": "stream",
     "text": [
      "Processing images in the folder: /home/hanu/dataset/svhn/f1/test\n",
      "('Could not read:', '/home/hanu/dataset/svhn/f1/test/digitStruct.mat', ':', IOError(\"cannot identify image file '/home/hanu/dataset/svhn/f1/test/digitStruct.mat'\",), \"- it's ok, skipping.\")\n",
      "('Could not read:', '/home/hanu/dataset/svhn/f1/test/digitStruct.csv', ':', IOError(\"cannot identify image file '/home/hanu/dataset/svhn/f1/test/digitStruct.csv'\",), \"- it's ok, skipping.\")\n",
      "('Could not read:', '/home/hanu/dataset/svhn/f1/test/digitStruct_nozeros.dataframe', ':', IOError(\"cannot identify image file '/home/hanu/dataset/svhn/f1/test/digitStruct_nozeros.dataframe'\",), \"- it's ok, skipping.\")\n",
      "('Could not read:', '/home/hanu/dataset/svhn/f1/test/digitStruct.dataframe', ':', IOError(\"cannot identify image file '/home/hanu/dataset/svhn/f1/test/digitStruct.dataframe'\",), \"- it's ok, skipping.\")\n",
      "('Could not read:', '/home/hanu/dataset/svhn/f1/test/see_bboxes.m', ':', IOError(\"cannot identify image file '/home/hanu/dataset/svhn/f1/test/see_bboxes.m'\",), \"- it's ok, skipping.\")\n",
      "('Full dataset tensor:', (13068, 54, 54, 3))\n",
      "('Mean:', -0.043579001)\n",
      "('Standard deviation:', 0.22369905)\n",
      "Processing images in the folder: /home/hanu/dataset/svhn/f1/train\n",
      "('Could not read:', '/home/hanu/dataset/svhn/f1/train/digitStruct.mat', ':', IOError(\"cannot identify image file '/home/hanu/dataset/svhn/f1/train/digitStruct.mat'\",), \"- it's ok, skipping.\")\n",
      "('Could not read:', '/home/hanu/dataset/svhn/f1/train/digitStruct.csv', ':', IOError(\"cannot identify image file '/home/hanu/dataset/svhn/f1/train/digitStruct.csv'\",), \"- it's ok, skipping.\")\n",
      "('Could not read:', '/home/hanu/dataset/svhn/f1/train/digitStruct_nozeros.dataframe', ':', IOError(\"cannot identify image file '/home/hanu/dataset/svhn/f1/train/digitStruct_nozeros.dataframe'\",), \"- it's ok, skipping.\")\n",
      "('Could not read:', '/home/hanu/dataset/svhn/f1/train/digitStruct.dataframe', ':', IOError(\"cannot identify image file '/home/hanu/dataset/svhn/f1/train/digitStruct.dataframe'\",), \"- it's ok, skipping.\")\n",
      "('Could not read:', '/home/hanu/dataset/svhn/f1/train/see_bboxes.m', ':', IOError(\"cannot identify image file '/home/hanu/dataset/svhn/f1/train/see_bboxes.m'\",), \"- it's ok, skipping.\")\n",
      "('Full dataset tensor:', (33402, 54, 54, 3))\n",
      "('Mean:', -0.047954392)\n",
      "('Standard deviation:', 0.19817442)\n"
     ]
    }
   ],
   "source": [
    "image_size = 54  # Pixel width and height.\n",
    "pixel_depth = 255.0  # Number of levels per pixel.\n",
    "color_channels = 3 # since we are using color images\n",
    "\n",
    "def crop_and_scale(imagedata,image_filename,bbox_dict):\n",
    "    image_bbox = bbox_dict[image_filename]\n",
    "    \n",
    "    top = int(max(0,image_bbox['top']))\n",
    "    bottom = int(max(0,image_bbox['bottom']))\n",
    "    left = int(max(0,image_bbox['left']))\n",
    "    right = int(max(0,image_bbox['right']))\n",
    "    \n",
    "    width = right - left\n",
    "    height = bottom - top\n",
    "    \n",
    "    top = int(max(0,top-(0.15*height)))\n",
    "    bottom = int(max(0,bottom+(0.15*height)))\n",
    "    left = int(max(0,left-(0.15*width)))\n",
    "    right = int(max(0,right+(0.15*width)))\n",
    "    \n",
    "    cropped = imagedata[top:bottom,left:right,:]\n",
    "    scaled = resize(np.ascontiguousarray(cropped),(64,64))\n",
    "    \n",
    "    randomTop = random.choice(range(10))\n",
    "    randomLeft = random.choice(range(10))\n",
    "    \n",
    "    final_image = scaled[randomTop:54+randomTop,randomLeft:54+randomLeft,:]\n",
    "    return final_image\n",
    "\n",
    "\n",
    "#\"\"\"Load the data for a single letter label.\"\"\"\n",
    "def load_imagadata(folder, bbox_dict):    \n",
    "    image_files = os.listdir(folder)\n",
    "    dataset = np.ndarray(shape=(len(image_files), image_size, image_size, color_channels),\n",
    "                         dtype=np.float32)\n",
    "    labels = np.ndarray(shape=(len(image_files)),dtype=np.int)\n",
    "    image_index = 0\n",
    "    print(\"Processing images in the folder: \" + folder)\n",
    "    for image in os.listdir(folder):\n",
    "        image_file = os.path.join(folder, image)\n",
    "        try:\n",
    "            image_data = (ndimage.imread(image_file).astype(float) -  pixel_depth / 2) / pixel_depth\n",
    "            cropped_and_scaled = crop_and_scale(image_data,image,bbox_dict)\n",
    "            if cropped_and_scaled.shape != (image_size, image_size, color_channels):\n",
    "                raise Exception('Unexpected image shape: %s' % str(image_data.shape))\n",
    "            dataset[image_index, :, :,:] = cropped_and_scaled\n",
    "            labels[image_index] = bbox_dict[image]['label']\n",
    "            image_index += 1\n",
    "        except IOError as e:\n",
    "            print('Could not read:', image_file, ':', e, '- it\\'s ok, skipping.')\n",
    "\n",
    "    num_images = image_index\n",
    "    dataset = dataset[0:num_images, :, :]\n",
    "    labels = labels[0:num_images]\n",
    "    print('Full dataset tensor:', dataset.shape)\n",
    "    print('Mean:', np.mean(dataset))\n",
    "    print('Standard deviation:', np.std(dataset))\n",
    "    return dataset, labels\n",
    "\n",
    "test_dataset, test_labels = load_imagadata(test_folder,test_bboxes_dict)\n",
    "train_dataset, train_labels = load_imagadata(train_folder,train_bboxes_dict)"
   ]
  },
  {
   "cell_type": "code",
   "execution_count": 19,
   "metadata": {
    "collapsed": false
   },
   "outputs": [
    {
     "name": "stdout",
     "output_type": "stream",
     "text": [
      "34\n"
     ]
    },
    {
     "data": {
      "text/plain": [
       "<function matplotlib.pyplot.show>"
      ]
     },
     "execution_count": 19,
     "metadata": {},
     "output_type": "execute_result"
    },
    {
     "data": {
      "image/png": "[encoded data removed]",
      "text/plain": [
       "<matplotlib.figure.Figure at 0x7fadfc0cbed0>"
      ]
     },
     "metadata": {},
     "output_type": "display_data"
    }
   ],
   "source": [
    "print(train_labels[5])\n",
    "\n",
    "%matplotlib inline\n",
    "plt.figure()\n",
    "plt.imshow(train_dataset[5]);\n",
    "plt.show"
   ]
  },
  {
   "cell_type": "code",
   "execution_count": 21,
   "metadata": {
    "collapsed": false
   },
   "outputs": [
    {
     "name": "stdout",
     "output_type": "stream",
     "text": [
      "pickled test dataset\n",
      "pickled test labels\n",
      "pickled train dataset\n",
      "pickled train labels\n"
     ]
    }
   ],
   "source": [
    "set_filename = os.path.join(temp_directory,\"test_dataset.pickle\")\n",
    "try:\n",
    "    with open(set_filename, 'wb') as f:\n",
    "        pickle.dump(test_dataset, f, pickle.HIGHEST_PROTOCOL)\n",
    "except Exception as e:\n",
    "    print('Unable to save data to', set_filename, ':', e)\n",
    "print(\"pickled test dataset\")\n",
    "\n",
    "\n",
    "set_filename = os.path.join(temp_directory,\"test_labels.pickle\")\n",
    "try:\n",
    "    with open(set_filename, 'wb') as f:\n",
    "        pickle.dump(test_labels, f, pickle.HIGHEST_PROTOCOL)\n",
    "except Exception as e:\n",
    "    print('Unable to save data to', set_filename, ':', e)\n",
    "print(\"pickled test labels\")\n",
    "\n",
    "\n",
    "set_filename = os.path.join(temp_directory,\"train_dataset.pickle\")\n",
    "try:\n",
    "    with open(set_filename, 'wb') as f:\n",
    "        pickle.dump(train_dataset, f, pickle.HIGHEST_PROTOCOL)\n",
    "except Exception as e:\n",
    "    print('Unable to save data to', set_filename, ':', e)\n",
    "print(\"pickled train dataset\")\n",
    "\n",
    "\n",
    "set_filename = os.path.join(temp_directory,\"train_labels.pickle\")\n",
    "try:\n",
    "    with open(set_filename, 'wb') as f:\n",
    "        pickle.dump(train_labels, f, pickle.HIGHEST_PROTOCOL)\n",
    "except Exception as e:\n",
    "    print('Unable to save data to', set_filename, ':', e)\n",
    "print(\"pickled train labels\")"
   ]
  },
  {
   "cell_type": "code",
   "execution_count": 7,
   "metadata": {
    "collapsed": true
   },
   "outputs": [],
   "source": [
    "def make_tarfile(output_filename, source_dir):\n",
    "    with tarfile.open(output_filename, \"w:gz\") as tar:\n",
    "        tar.add(source_dir, arcname=os.path.basename(source_dir))\n",
    "        \n",
    "def calculate_font_size(housenumber):\n",
    "    if housenumber >= 10000:\n",
    "        fontsize = 100\n",
    "    elif housenumber >= 1000:\n",
    "        fontsize = 150\n",
    "    elif housenumber >= 100:\n",
    "        fontsize = 200\n",
    "    elif housenumber >= 10:\n",
    "        fontsize = 250\n",
    "    else:\n",
    "        fontsize = 300\n",
    "    return fontsize\n",
    "        \n",
    "    \n",
    "def make_housenumber_sample(housenumber_config):\n",
    "    fig = plt.figure(figsize=(5.4, 5.4), dpi=10)\n",
    "    ax = fig.add_subplot(111)\n",
    "    font = FontProperties()\n",
    "    font.set_family(housenumber_config['family'])\n",
    "    font.set_style(housenumber_config['style'])\n",
    "    ax.text(0.5, 0.5, housenumber_config['random_number'], verticalalignment='center', horizontalalignment='center',\n",
    "            transform=ax.transAxes, color=housenumber_config['color'], \n",
    "            fontsize=calculate_font_size(housenumber_config['random_number']), fontproperties=font, \n",
    "            rotation=housenumber_config['rotation'])\n",
    "    ax.axis([0, 54, 0, 54])\n",
    "    plt.axis('off')\n",
    "    #fig.show()\n",
    "    fig.savefig(housenumber_config['filename'],dpi=10)\n",
    "    fig.clf()\n",
    "    plt.close()\n",
    "    gc.collect()\n",
    "    \n",
    "\n",
    "def generate_synthetic_housenumbers(num_samples=1, fileprefix='shn'):\n",
    "    list_of_hnconfig_tuples = [\n",
    "                        (\n",
    "                            synthetic_data_directory + fileprefix + '/' + fileprefix + '-' + str(x),\n",
    "                            random.choice(['sans-serif','serif']),\n",
    "                            random.choice(['italic','normal']),\n",
    "                            random.choice(['orange','red','blue','black','green']),\n",
    "                            random.choice([0,-20,-10,-5,5,10,20]),\n",
    "                            random.choice(range(random.choice([100,1000,10000,99999])))+1\n",
    "                        ) \n",
    "                        for x in range(num_samples)\n",
    "                        ]\n",
    "    list_of_hnconfig_dicts = map(\n",
    "                            lambda (filename,family,style,color,rotation,random_number):\n",
    "                            {'filename':filename,\n",
    "                             'family':family,\n",
    "                             'style':style,\n",
    "                             'color':color,\n",
    "                             'rotation':rotation,\n",
    "                             'random_number':random_number\n",
    "                            },list_of_hnconfig_tuples\n",
    "                            )\n",
    "    labels = map(\n",
    "                lambda (filename,family,style,color,rotation,random_number):\n",
    "                random_number,\n",
    "                list_of_hnconfig_tuples\n",
    "                )\n",
    "\n",
    "    os.mkdir(synthetic_data_directory+fileprefix)\n",
    "    print(\"Generating images....\")\n",
    "    for hnconfig in list_of_hnconfig_dicts:\n",
    "        #print(hnconfig)\n",
    "        make_housenumber_sample(hnconfig)\n",
    "    make_tarfile(synthetic_data_directory+fileprefix+'.tar.gz',synthetic_data_directory+fileprefix)\n",
    "\n",
    "    set_filename = synthetic_data_directory+fileprefix+'-labels.pickle'\n",
    "    try:\n",
    "        with open(set_filename, 'wb') as f:\n",
    "            pickle.dump(labels, f, pickle.HIGHEST_PROTOCOL)\n",
    "    except Exception as e:\n",
    "        print('Unable to save data to', set_filename, ':', e)\n",
    "\n",
    "    print(\"Done generating \"+str(num_samples)+\" images\")"
   ]
  },
  {
   "cell_type": "code",
   "execution_count": 8,
   "metadata": {
    "collapsed": true
   },
   "outputs": [],
   "source": [
    "def maybe_generate_synthetic_images():\n",
    "    \"\"\"Genetate the synthetic datasets used to initially train the neural network\"\"\"\n",
    "    if not (os.path.exists(os.path.join(synthetic_data_directory,\"synthetic_test_set.tar.gz\")) and \n",
    "          os.path.exists(os.path.join(synthetic_data_directory,\"synthetic_train_set.tar.gz\"))):\n",
    "        print(\"Starting to generate synthetic_test_set...\")\n",
    "        start = time.clock() \n",
    "        generate_synthetic_housenumbers(num_samples=15000,fileprefix='synthetic_test_set')\n",
    "        elapsed = time.clock()\n",
    "        elapsed = elapsed - start\n",
    "        print \"Time spent was: \", elapsed\n",
    "\n",
    "        print(\"Starting to generate synthetic_train_set...\")\n",
    "        start = time.clock() \n",
    "        generate_synthetic_housenumbers(num_samples=35000,fileprefix='synthetic_train_set')\n",
    "        elapsed = time.clock()\n",
    "        elapsed = elapsed - start\n",
    "        print \"Time spent is: \", elapsed\n",
    "    else:\n",
    "        print(\"The synthetic images have been created already so skipping generation...\")\n",
    "    print(\"The synthetic images are ready\")\n",
    "    return \"synthetic_train_set\", \"synthetic_test_set\""
   ]
  },
  {
   "cell_type": "code",
   "execution_count": 15,
   "metadata": {
    "collapsed": false
   },
   "outputs": [
    {
     "name": "stdout",
     "output_type": "stream",
     "text": [
      "Starting to generate synthetic_train_set...\n",
      "Generating images....\n",
      "Done generating 35000 images\n",
      "Time spent is:  3335.393244\n",
      "The synthetic images are ready\n"
     ]
    }
   ],
   "source": [
    "synthetic_train_folder, synthetic_test_folder =  maybe_generate_synthetic_images()"
   ]
  },
  {
   "cell_type": "code",
   "execution_count": 9,
   "metadata": {
    "collapsed": false
   },
   "outputs": [
    {
     "data": {
      "text/plain": [
       "'/home/hanu/dataset/svhn/f1/synthetic_data'"
      ]
     },
     "execution_count": 9,
     "metadata": {},
     "output_type": "execute_result"
    }
   ],
   "source": [
    "synthetic_data_directory"
   ]
  },
  {
   "cell_type": "code",
   "execution_count": 10,
   "metadata": {
    "collapsed": true
   },
   "outputs": [],
   "source": [
    "stestlf = open(synthetic_data_directory+'synthetic_test_set-labels.pickle','r')"
   ]
  },
  {
   "cell_type": "code",
   "execution_count": 12,
   "metadata": {
    "collapsed": false
   },
   "outputs": [],
   "source": [
    "synthetic_test_labels_list = pickle.load(stestlf)"
   ]
  },
  {
   "cell_type": "code",
   "execution_count": 16,
   "metadata": {
    "collapsed": false
   },
   "outputs": [],
   "source": [
    "strainlf = open(synthetic_data_directory+'synthetic_train_set-labels.pickle','r')\n",
    "synthetic_train_labels_list = pickle.load(strainlf)"
   ]
  },
  {
   "cell_type": "code",
   "execution_count": 17,
   "metadata": {
    "collapsed": true
   },
   "outputs": [],
   "source": [
    "synthetic_test_labels_dict = reduce(lambda d1,d2: merge_two_dicts(d1,d2),\n",
    "                                    map(lambda (x,y):{'synthetic_test_set-'+str(x)+'.png':y},\n",
    "                                 zip(range(len(synthetic_test_labels_list)),synthetic_test_labels_list)))\n",
    "\n",
    "synthetic_train_labels_dict = reduce(lambda d1,d2: merge_two_dicts(d1,d2),\n",
    "                                     map(lambda (x,y):{'synthetic_train_set-'+str(x)+'.png':y},\n",
    "                                 zip(range(len(synthetic_train_labels_list)),synthetic_train_labels_list)))"
   ]
  },
  {
   "cell_type": "code",
   "execution_count": 18,
   "metadata": {
    "collapsed": false
   },
   "outputs": [
    {
     "name": "stdout",
     "output_type": "stream",
     "text": [
      "Processing images in the folder: synthetic_test_set\n",
      "('Full dataset tensor:', (15000, 54, 54, 3))\n",
      "('Mean:', 0.43560672)\n",
      "('Standard deviation:', 0.21184637)\n",
      "Processing images in the folder: synthetic_train_set\n",
      "('Full dataset tensor:', (35000, 54, 54, 3))\n",
      "('Mean:', 0.4355773)\n",
      "('Standard deviation:', 0.21183318)\n"
     ]
    }
   ],
   "source": [
    "image_size = 54  # Pixel width and height.\n",
    "pixel_depth = 255.0  # Number of levels per pixel.\n",
    "color_channels = 3 # since we are using color images\n",
    "\n",
    "def load_synthetic_imagadata(folder,label_dict):\n",
    "  \"\"\"Load the data for a single letter label.\"\"\"\n",
    "  image_files = os.listdir(synthetic_data_directory+folder)\n",
    "  dataset = np.ndarray(shape=(len(image_files), image_size, image_size, color_channels),\n",
    "                         dtype=np.float32)\n",
    "  labels = np.ndarray(shape=(len(image_files)),dtype=np.int)\n",
    "  image_index = 0\n",
    "  print(\"Processing images in the folder: \" + folder)\n",
    "  for image in sorted(os.listdir(synthetic_data_directory+folder)):\n",
    "    image_file = os.path.join(synthetic_data_directory+folder, image)\n",
    "    try:\n",
    "      img = Image.open(image_file).convert(\"RGB\")\n",
    "      image_data = (np.array(img) - pixel_depth / 2) / pixel_depth\n",
    "      if image_data.shape != (image_size, image_size, color_channels):\n",
    "        raise Exception('Unexpected image shape: %s' % str(image_data.shape))\n",
    "      dataset[image_index, :, :,:] = image_data\n",
    "      labels[image_index] = label_dict[image]\n",
    "      image_index += 1\n",
    "    except IOError as e:\n",
    "      print('Could not read:', image_file, ':', e, '- it\\'s ok, skipping.')\n",
    "  num_images = image_index\n",
    "  dataset = dataset[0:num_images, :, :]\n",
    "  print('Full dataset tensor:', dataset.shape)\n",
    "  print('Mean:', np.mean(dataset))\n",
    "  print('Standard deviation:', np.std(dataset))\n",
    "  return dataset, labels\n",
    "    \n",
    "synthetic_test_dataset, synthetic_test_labels = load_synthetic_imagadata(synthetic_test_folder, synthetic_test_labels_dict)\n",
    "synthetic_train_dataset, synthetic_train_labels= load_synthetic_imagadata(synthetic_train_folder, synthetic_train_labels_dict)"
   ]
  },
  {
   "cell_type": "code",
   "execution_count": 19,
   "metadata": {
    "collapsed": false
   },
   "outputs": [
    {
     "name": "stdout",
     "output_type": "stream",
     "text": [
      "pickled synthetic test dataset\n",
      "pickled synthetic test labels\n",
      "pickled synthetic train dataset\n",
      "pickled synthetic train labels\n"
     ]
    }
   ],
   "source": [
    "set_filename = synthetic_data_directory+\"synthetic_test_dataset.pickle\"\n",
    "try:\n",
    "    with open(set_filename, 'wb') as f:\n",
    "        pickle.dump(synthetic_test_dataset, f, pickle.HIGHEST_PROTOCOL)\n",
    "except Exception as e:\n",
    "    print('Unable to save data to', set_filename, ':', e)\n",
    "print(\"pickled synthetic test dataset\")\n",
    "\n",
    "set_filename = synthetic_data_directory+\"synthetic_test_labels.pickle\"\n",
    "try:\n",
    "    with open(set_filename, 'wb') as f:\n",
    "        pickle.dump(synthetic_test_labels, f, pickle.HIGHEST_PROTOCOL)\n",
    "except Exception as e:\n",
    "    print('Unable to save data to', set_filename, ':', e)\n",
    "print(\"pickled synthetic test labels\")\n",
    "\n",
    "set_filename = synthetic_data_directory+\"synthetic_train_dataset.pickle\"\n",
    "try:\n",
    "    with open(set_filename, 'wb') as f:\n",
    "        pickle.dump(synthetic_train_dataset, f, pickle.HIGHEST_PROTOCOL)\n",
    "except Exception as e:\n",
    "    print('Unable to save data to', set_filename, ':', e)\n",
    "print(\"pickled synthetic train dataset\")\n",
    "\n",
    "set_filename = synthetic_data_directory+\"synthetic_train_labels.pickle\"\n",
    "try:\n",
    "    with open(set_filename, 'wb') as f:\n",
    "        pickle.dump(synthetic_train_labels, f, pickle.HIGHEST_PROTOCOL)\n",
    "except Exception as e:\n",
    "    print('Unable to save data to', set_filename, ':', e)\n",
    "print(\"pickled synthetic train labels\")"
   ]
  },
  {
   "cell_type": "code",
   "execution_count": 20,
   "metadata": {
    "collapsed": false
   },
   "outputs": [
    {
     "name": "stdout",
     "output_type": "stream",
     "text": [
      "146\n"
     ]
    },
    {
     "data": {
      "text/plain": [
       "<function matplotlib.pyplot.show>"
      ]
     },
     "execution_count": 20,
     "metadata": {},
     "output_type": "execute_result"
    },
    {
     "data": {
      "image/png": "[encoded data removed]",
      "text/plain": [
       "<matplotlib.figure.Figure at 0x7f450bdb6d90>"
      ]
     },
     "metadata": {},
     "output_type": "display_data"
    }
   ],
   "source": [
    "print(synthetic_train_labels[10])\n",
    "\n",
    "%matplotlib inline\n",
    "plt.figure()\n",
    "plt.imshow(synthetic_train_dataset[10]);\n",
    "plt.show"
   ]
  },
  {
   "cell_type": "code",
   "execution_count": 21,
   "metadata": {
    "collapsed": true
   },
   "outputs": [],
   "source": [
    "train_dataset_file = open(synthetic_data_directory+'synthetic_train_dataset.pickle','r')\n",
    "source_train_dataset = pickle.load(train_dataset_file)\n",
    "\n",
    "train_labels_file = open(synthetic_data_directory+'synthetic_train_labels.pickle','r')\n",
    "source_train_labels = np.asarray(pickle.load(train_labels_file))\n",
    "\n",
    "test_dataset_file = open(synthetic_data_directory+'synthetic_test_dataset.pickle','r')\n",
    "test_dataset = pickle.load(test_dataset_file)\n",
    "\n",
    "test_labels_file = open(synthetic_data_directory+'synthetic_test_labels.pickle','r')\n",
    "test_labels_1 = np.asarray(pickle.load(test_labels_file))\n",
    "\n",
    "trainlen = int(0.8 * len(source_train_dataset))\n",
    "\n",
    "valid_dataset = source_train_dataset[trainlen:,:,:,:]\n",
    "valid_labels_1 = source_train_labels[trainlen:]\n",
    "\n",
    "train_dataset = source_train_dataset[:trainlen,:,:,:]\n",
    "train_labels_1 = source_train_labels[:trainlen]\n",
    "\n",
    "train_dataset_save = train_dataset\n",
    "train_labels_save = train_labels_1\n",
    "valid_dataset_save = valid_dataset\n",
    "valid_labels_save = valid_labels_1\n",
    "test_dataset_save = test_dataset\n",
    "test_labels_save = test_labels_1"
   ]
  },
  {
   "cell_type": "code",
   "execution_count": 22,
   "metadata": {
    "collapsed": false
   },
   "outputs": [
    {
     "data": {
      "text/plain": [
       "'/home/hanu/dataset/svhn/f1/'"
      ]
     },
     "execution_count": 22,
     "metadata": {},
     "output_type": "execute_result"
    }
   ],
   "source": [
    "directory"
   ]
  },
  {
   "cell_type": "code",
   "execution_count": 23,
   "metadata": {
    "collapsed": false
   },
   "outputs": [
    {
     "name": "stdout",
     "output_type": "stream",
     "text": [
      "('Compressed pickle size:', 1750000516)\n"
     ]
    }
   ],
   "source": [
    "pickle_file = os.path.join(directory,'SVHN_synthetic.pickle')\n",
    "\n",
    "try:\n",
    "  f = open(pickle_file, 'wb')\n",
    "  save = {\n",
    "    'train_dataset': train_dataset_save,\n",
    "    'train_labels': train_labels_save,\n",
    "    'valid_dataset': valid_dataset_save,\n",
    "    'valid_labels': valid_labels_save,\n",
    "    'test_dataset': test_dataset_save,\n",
    "    'test_labels': test_labels_save,\n",
    "    }\n",
    "  pickle.dump(save, f, pickle.HIGHEST_PROTOCOL)\n",
    "  f.close()\n",
    "except Exception as e:\n",
    "  print('Unable to save data to', pickle_file, ':', e)\n",
    "  raise\n",
    "    \n",
    "statinfo = os.stat(pickle_file)\n",
    "print('Compressed pickle size:', statinfo.st_size)"
   ]
  },
  {
   "cell_type": "code",
   "execution_count": 26,
   "metadata": {
    "collapsed": false
   },
   "outputs": [],
   "source": [
    "#train_dataset_file = open(temp_directory+'train_dataset.pickle','r')\n",
    "train_dataset_file = open('/home/hanu/dataset/svhn/f1/synthetic_datasynthetic_train_dataset.pickle','r')\n",
    "source_train_dataset = pickle.load(train_dataset_file)\n",
    "\n",
    "#train_labels_file = open(temp_directory+'train_labels.pickle','r')\n",
    "train_labels_file = open('/home/hanu/dataset/svhn/f1/synthetic_datasynthetic_test_dataset.pickle','r')\n",
    "source_train_labels = np.asarray(pickle.load(train_labels_file))\n",
    "\n",
    "#test_dataset_file = open(temp_directory+'test_dataset.pickle','r')\n",
    "test_dataset_file = open('/home/hanu/dataset/svhn/f1/synthetic_datasynthetic_test_dataset.pickle','r')\n",
    "test_dataset = pickle.load(test_dataset_file)\n",
    "\n",
    "#test_labels_file = open(temp_directory+'test_labels.pickle','r')\n",
    "test_labels_file = open('/home/hanu/dataset/svhn/f1/synthetic_datasynthetic_test_labels.pickle','r')\n",
    "test_labels_1 = np.asarray(pickle.load(test_labels_file))\n",
    "\n",
    "trainlen = int(0.8 * len(source_train_dataset))\n",
    "\n",
    "valid_dataset = source_train_dataset[trainlen:,:,:,:]\n",
    "valid_labels_1 = source_train_labels[trainlen:]\n",
    "\n",
    "train_dataset = source_train_dataset[:trainlen,:,:,:]\n",
    "train_labels_1 = source_train_labels[:trainlen]\n",
    "\n",
    "train_dataset_save = train_dataset\n",
    "train_labels_save = train_labels_1\n",
    "valid_dataset_save = valid_dataset\n",
    "valid_labels_save = valid_labels_1\n",
    "test_dataset_save = test_dataset\n",
    "test_labels_save = test_labels_1"
   ]
  },
  {
   "cell_type": "code",
   "execution_count": 30,
   "metadata": {
    "collapsed": false
   },
   "outputs": [
    {
     "name": "stdout",
     "output_type": "stream",
     "text": [
      "Compressed pickle size: 2274600526\n"
     ]
    }
   ],
   "source": [
    "pickle_file = os.path.join(directory,'SVHN_real.pickle') \n",
    "\n",
    "try:\n",
    "  f = open(pickle_file, 'wb')\n",
    "  save = {\n",
    "    'train_dataset': train_dataset_save,\n",
    "    'train_labels': train_labels_save,\n",
    "    'valid_dataset': valid_dataset_save,\n",
    "    'valid_labels': valid_labels_save,\n",
    "    'test_dataset': test_dataset_save,\n",
    "    'test_labels': test_labels_save,\n",
    "    }\n",
    "  pickle.dump(save, f, pickle.HIGHEST_PROTOCOL)\n",
    "  f.close()\n",
    "except Exception as e:\n",
    "  print('Unable to save data to', pickle_file, ':', e)\n",
    "  raise\n",
    "    \n",
    "statinfo = os.stat(pickle_file)\n",
    "print('Compressed pickle size:', statinfo.st_size)"
   ]
  },
  {
   "cell_type": "markdown",
   "metadata": {},
   "source": [
    "# 2"
   ]
  },
  {
   "cell_type": "code",
   "execution_count": 28,
   "metadata": {
    "collapsed": false
   },
   "outputs": [],
   "source": [
    "from __future__ import print_function\n",
    "import matplotlib.pyplot as plt\n",
    "import numpy as np\n",
    "import tensorflow as tf\n",
    "from six.moves import cPickle as pickle\n",
    "from six.moves import range\n",
    "import logging\n",
    "import os\n",
    "import sys\n",
    "\n",
    "import time\n",
    "from datetime import timedelta\n",
    "import prettytensor as pt"
   ]
  },
  {
   "cell_type": "code",
   "execution_count": 29,
   "metadata": {
    "collapsed": false
   },
   "outputs": [
    {
     "name": "stdout",
     "output_type": "stream",
     "text": [
      "0.10.0rc0\n",
      "2.7.12 |Anaconda 4.2.0 (64-bit)| (default, Jul  2 2016, 17:42:40) \n",
      "[GCC 4.4.7 20120313 (Red Hat 4.4.7-1)]\n"
     ]
    }
   ],
   "source": [
    "print(tf.__version__)\n",
    "print(sys.version)"
   ]
  },
  {
   "cell_type": "code",
   "execution_count": 31,
   "metadata": {
    "collapsed": false
   },
   "outputs": [
    {
     "name": "stdout",
     "output_type": "stream",
     "text": [
      "Training set (28000, 54, 54, 3) (15000, 54, 54, 3)\n",
      "Validation set (7000, 54, 54, 3) (0, 54, 54, 3)\n",
      "Test set (15000, 54, 54, 3) (15000,)\n"
     ]
    }
   ],
   "source": [
    "pickle_file = os.path.join(directory,'SVHN_real.pickle') \n",
    "\n",
    "with open(pickle_file, 'rb') as f:\n",
    "  save = pickle.load(f)\n",
    "  train_dataset = save['train_dataset']\n",
    "  train_labels = save['train_labels']\n",
    "  valid_dataset = save['valid_dataset']\n",
    "  valid_labels = save['valid_labels']\n",
    "  test_dataset = save['test_dataset']\n",
    "  test_labels = save['test_labels']\n",
    "  del save  # hint to help gc free up memory\n",
    "  print('Training set', train_dataset.shape, train_labels.shape)\n",
    "  print('Validation set', valid_dataset.shape, valid_labels.shape)\n",
    "  print('Test set', test_dataset.shape, test_labels.shape)"
   ]
  },
  {
   "cell_type": "code",
   "execution_count": 32,
   "metadata": {
    "collapsed": true
   },
   "outputs": [],
   "source": [
    "def plot_images(images, cls_true, cls_pred=None, smooth=True):\n",
    "\n",
    "    assert len(images) == len(cls_true) == 9\n",
    "\n",
    "    # Create figure with sub-plots.\n",
    "    fig, axes = plt.subplots(3, 3)\n",
    "\n",
    "    # Adjust vertical spacing if we need to print ensemble and best-net.\n",
    "    if cls_pred is None:\n",
    "        hspace = 0.3\n",
    "    else:\n",
    "        hspace = 0.6\n",
    "    fig.subplots_adjust(hspace=hspace, wspace=0.3)\n",
    "\n",
    "    for i, ax in enumerate(axes.flat):\n",
    "        # Interpolation type.\n",
    "        if smooth:\n",
    "            interpolation = 'spline16'\n",
    "        else:\n",
    "            interpolation = 'nearest'\n",
    "\n",
    "        # Plot image.\n",
    "        ax.imshow(images[i, :, :, :],\n",
    "                  interpolation=interpolation)\n",
    "            \n",
    "        # Name of the true class.\n",
    "        cls_true_name = cls_true[i]\n",
    "\n",
    "        # Show true and predicted classes.\n",
    "        if cls_pred is None:\n",
    "            xlabel = \"True: {0}\".format(cls_true_name)\n",
    "        else:\n",
    "            # Name of the predicted class.\n",
    "            cls_pred_name = cls_pred[i]\n",
    "\n",
    "            xlabel = \"True: {0}\\nPred: {1}\".format(cls_true_name, cls_pred_name)\n",
    "\n",
    "        # Show the classes as the label on the x-axis.\n",
    "        ax.set_xlabel(xlabel)\n",
    "        \n",
    "        # Remove ticks from the plot.\n",
    "        ax.set_xticks([])\n",
    "        ax.set_yticks([])\n",
    "    \n",
    "    # Ensure the plot is shown correctly with multiple plots\n",
    "    # in a single Notebook cell.\n",
    "    plt.show()"
   ]
  },
  {
   "cell_type": "code",
   "execution_count": 33,
   "metadata": {
    "collapsed": false
   },
   "outputs": [
    {
     "data": {
      "image/png": "[encoded data removed]",
      "text/plain": [
       "<matplotlib.figure.Figure at 0x7f448792d4d0>"
      ]
     },
     "metadata": {},
     "output_type": "display_data"
    }
   ],
   "source": [
    "# Get the first images from the test-set.\n",
    "images = test_dataset[0:9]\n",
    "\n",
    "# Get the true classes for those images.\n",
    "cls_true = test_labels[0:9]\n",
    "\n",
    "# Plot the images and labels using our helper-function above.\n",
    "plot_images(images=images, cls_true=cls_true, smooth=False)"
   ]
  },
  {
   "cell_type": "code",
   "execution_count": 34,
   "metadata": {
    "collapsed": true
   },
   "outputs": [],
   "source": [
    "# Helper function for getting the nth digit from an integer\n",
    "# For example nth_digit(2534,2) = 5\n",
    "\n",
    "def nth_digit(number,n):\n",
    "    l = len(str(number))\n",
    "    if l >= n:\n",
    "        return int(str(number)[n-1])\n",
    "    else:\n",
    "        return 10"
   ]
  },
  {
   "cell_type": "code",
   "execution_count": 41,
   "metadata": {
    "collapsed": false
   },
   "outputs": [],
   "source": [
    "image_size = 54\n",
    "num_labels = 11\n",
    "num_channels = 3\n",
    "\n",
    "def reformat(dataset, labels):\n",
    "    dataset = dataset.reshape((-1, image_size, image_size, num_channels)).astype(np.float32)\n",
    "\n",
    "    # get the number of digits in the house number, e.g. 218 has labels_num_length=3\n",
    "    labels_num_length = np.asarray(map(lambda x:len(str(x)), labels))\n",
    "\n",
    "    # get the individual digits from the house number, 10 mean blank\n",
    "    # For example label digits for the number 218 are: [2,1,8,10,10] \n",
    "    labels_digit1 = np.asarray(map(lambda x:nth_digit(x,1), labels))\n",
    "    labels_digit2 = np.asarray(map(lambda x:nth_digit(x,2), labels))\n",
    "    labels_digit3 = np.asarray(map(lambda x:nth_digit(x,3), labels))\n",
    "    labels_digit4 = np.asarray(map(lambda x:nth_digit(x,4), labels))\n",
    "    labels_digit5 = np.asarray(map(lambda x:nth_digit(x,5), labels))\n",
    "\n",
    "    # Turn the labels above into 1-hot encodings\n",
    "    labels_num_length = (np.arange(num_labels) == labels_num_length[:,None]).astype(np.int32)\n",
    "    labels_digit1 = (np.arange(num_labels) == labels_digit1[:,None]).astype(np.int32)\n",
    "    labels_digit2 = (np.arange(num_labels) == labels_digit2[:,None]).astype(np.int32)\n",
    "    labels_digit3 = (np.arange(num_labels) == labels_digit3[:,None]).astype(np.int32)\n",
    "    labels_digit4 = (np.arange(num_labels) == labels_digit4[:,None]).astype(np.int32)\n",
    "    labels_digit5 = (np.arange(num_labels) == labels_digit5[:,None]).astype(np.int32)\n",
    "\n",
    "    # Combine the individual 1-hot encodings into a single matrix\n",
    "    labels_list = np.stack((labels_num_length, labels_digit1, labels_digit2, labels_digit3, labels_digit4, labels_digit5), axis=1)\n",
    "    return dataset, labels_list"
   ]
  },
  {
   "cell_type": "code",
   "execution_count": 42,
   "metadata": {
    "collapsed": false
   },
   "outputs": [
    {
     "ename": "ValueError",
     "evalue": "invalid literal for int() with base 10: '['",
     "output_type": "error",
     "traceback": [
      "\u001b[0;31m\u001b[0m",
      "\u001b[0;31mValueError\u001b[0mTraceback (most recent call last)",
      "\u001b[0;32m<ipython-input-42-630019436e36>\u001b[0m in \u001b[0;36m<module>\u001b[0;34m()\u001b[0m\n\u001b[0;32m----> 1\u001b[0;31m \u001b[0mtrain_dataset\u001b[0m\u001b[0;34m,\u001b[0m \u001b[0mtrain_labels\u001b[0m \u001b[0;34m=\u001b[0m \u001b[0mreformat\u001b[0m\u001b[0;34m(\u001b[0m\u001b[0mtrain_dataset\u001b[0m\u001b[0;34m,\u001b[0m \u001b[0mtrain_labels\u001b[0m\u001b[0;34m)\u001b[0m\u001b[0;34m\u001b[0m\u001b[0m\n\u001b[0m",
      "\u001b[0;32m<ipython-input-41-8e90e392be11>\u001b[0m in \u001b[0;36mreformat\u001b[0;34m(dataset, labels)\u001b[0m\n\u001b[1;32m     11\u001b[0m     \u001b[0;31m# get the individual digits from the house number, 10 mean blank\u001b[0m\u001b[0;34m\u001b[0m\u001b[0;34m\u001b[0m\u001b[0m\n\u001b[1;32m     12\u001b[0m     \u001b[0;31m# For example label digits for the number 218 are: [2,1,8,10,10]\u001b[0m\u001b[0;34m\u001b[0m\u001b[0;34m\u001b[0m\u001b[0m\n\u001b[0;32m---> 13\u001b[0;31m     \u001b[0mlabels_digit1\u001b[0m \u001b[0;34m=\u001b[0m \u001b[0mnp\u001b[0m\u001b[0;34m.\u001b[0m\u001b[0masarray\u001b[0m\u001b[0;34m(\u001b[0m\u001b[0mmap\u001b[0m\u001b[0;34m(\u001b[0m\u001b[0;32mlambda\u001b[0m \u001b[0mx\u001b[0m\u001b[0;34m:\u001b[0m\u001b[0mnth_digit\u001b[0m\u001b[0;34m(\u001b[0m\u001b[0mx\u001b[0m\u001b[0;34m,\u001b[0m\u001b[0;36m1\u001b[0m\u001b[0;34m)\u001b[0m\u001b[0;34m,\u001b[0m \u001b[0mlabels\u001b[0m\u001b[0;34m)\u001b[0m\u001b[0;34m)\u001b[0m\u001b[0;34m\u001b[0m\u001b[0m\n\u001b[0m\u001b[1;32m     14\u001b[0m     \u001b[0mlabels_digit2\u001b[0m \u001b[0;34m=\u001b[0m \u001b[0mnp\u001b[0m\u001b[0;34m.\u001b[0m\u001b[0masarray\u001b[0m\u001b[0;34m(\u001b[0m\u001b[0mmap\u001b[0m\u001b[0;34m(\u001b[0m\u001b[0;32mlambda\u001b[0m \u001b[0mx\u001b[0m\u001b[0;34m:\u001b[0m\u001b[0mnth_digit\u001b[0m\u001b[0;34m(\u001b[0m\u001b[0mx\u001b[0m\u001b[0;34m,\u001b[0m\u001b[0;36m2\u001b[0m\u001b[0;34m)\u001b[0m\u001b[0;34m,\u001b[0m \u001b[0mlabels\u001b[0m\u001b[0;34m)\u001b[0m\u001b[0;34m)\u001b[0m\u001b[0;34m\u001b[0m\u001b[0m\n\u001b[1;32m     15\u001b[0m     \u001b[0mlabels_digit3\u001b[0m \u001b[0;34m=\u001b[0m \u001b[0mnp\u001b[0m\u001b[0;34m.\u001b[0m\u001b[0masarray\u001b[0m\u001b[0;34m(\u001b[0m\u001b[0mmap\u001b[0m\u001b[0;34m(\u001b[0m\u001b[0;32mlambda\u001b[0m \u001b[0mx\u001b[0m\u001b[0;34m:\u001b[0m\u001b[0mnth_digit\u001b[0m\u001b[0;34m(\u001b[0m\u001b[0mx\u001b[0m\u001b[0;34m,\u001b[0m\u001b[0;36m3\u001b[0m\u001b[0;34m)\u001b[0m\u001b[0;34m,\u001b[0m \u001b[0mlabels\u001b[0m\u001b[0;34m)\u001b[0m\u001b[0;34m)\u001b[0m\u001b[0;34m\u001b[0m\u001b[0m\n",
      "\u001b[0;32m<ipython-input-41-8e90e392be11>\u001b[0m in \u001b[0;36m<lambda>\u001b[0;34m(x)\u001b[0m\n\u001b[1;32m     11\u001b[0m     \u001b[0;31m# get the individual digits from the house number, 10 mean blank\u001b[0m\u001b[0;34m\u001b[0m\u001b[0;34m\u001b[0m\u001b[0m\n\u001b[1;32m     12\u001b[0m     \u001b[0;31m# For example label digits for the number 218 are: [2,1,8,10,10]\u001b[0m\u001b[0;34m\u001b[0m\u001b[0;34m\u001b[0m\u001b[0m\n\u001b[0;32m---> 13\u001b[0;31m     \u001b[0mlabels_digit1\u001b[0m \u001b[0;34m=\u001b[0m \u001b[0mnp\u001b[0m\u001b[0;34m.\u001b[0m\u001b[0masarray\u001b[0m\u001b[0;34m(\u001b[0m\u001b[0mmap\u001b[0m\u001b[0;34m(\u001b[0m\u001b[0;32mlambda\u001b[0m \u001b[0mx\u001b[0m\u001b[0;34m:\u001b[0m\u001b[0mnth_digit\u001b[0m\u001b[0;34m(\u001b[0m\u001b[0mx\u001b[0m\u001b[0;34m,\u001b[0m\u001b[0;36m1\u001b[0m\u001b[0;34m)\u001b[0m\u001b[0;34m,\u001b[0m \u001b[0mlabels\u001b[0m\u001b[0;34m)\u001b[0m\u001b[0;34m)\u001b[0m\u001b[0;34m\u001b[0m\u001b[0m\n\u001b[0m\u001b[1;32m     14\u001b[0m     \u001b[0mlabels_digit2\u001b[0m \u001b[0;34m=\u001b[0m \u001b[0mnp\u001b[0m\u001b[0;34m.\u001b[0m\u001b[0masarray\u001b[0m\u001b[0;34m(\u001b[0m\u001b[0mmap\u001b[0m\u001b[0;34m(\u001b[0m\u001b[0;32mlambda\u001b[0m \u001b[0mx\u001b[0m\u001b[0;34m:\u001b[0m\u001b[0mnth_digit\u001b[0m\u001b[0;34m(\u001b[0m\u001b[0mx\u001b[0m\u001b[0;34m,\u001b[0m\u001b[0;36m2\u001b[0m\u001b[0;34m)\u001b[0m\u001b[0;34m,\u001b[0m \u001b[0mlabels\u001b[0m\u001b[0;34m)\u001b[0m\u001b[0;34m)\u001b[0m\u001b[0;34m\u001b[0m\u001b[0m\n\u001b[1;32m     15\u001b[0m     \u001b[0mlabels_digit3\u001b[0m \u001b[0;34m=\u001b[0m \u001b[0mnp\u001b[0m\u001b[0;34m.\u001b[0m\u001b[0masarray\u001b[0m\u001b[0;34m(\u001b[0m\u001b[0mmap\u001b[0m\u001b[0;34m(\u001b[0m\u001b[0;32mlambda\u001b[0m \u001b[0mx\u001b[0m\u001b[0;34m:\u001b[0m\u001b[0mnth_digit\u001b[0m\u001b[0;34m(\u001b[0m\u001b[0mx\u001b[0m\u001b[0;34m,\u001b[0m\u001b[0;36m3\u001b[0m\u001b[0;34m)\u001b[0m\u001b[0;34m,\u001b[0m \u001b[0mlabels\u001b[0m\u001b[0;34m)\u001b[0m\u001b[0;34m)\u001b[0m\u001b[0;34m\u001b[0m\u001b[0m\n",
      "\u001b[0;32m<ipython-input-34-eec5b9ffa311>\u001b[0m in \u001b[0;36mnth_digit\u001b[0;34m(number, n)\u001b[0m\n\u001b[1;32m      5\u001b[0m     \u001b[0ml\u001b[0m \u001b[0;34m=\u001b[0m \u001b[0mlen\u001b[0m\u001b[0;34m(\u001b[0m\u001b[0mstr\u001b[0m\u001b[0;34m(\u001b[0m\u001b[0mnumber\u001b[0m\u001b[0;34m)\u001b[0m\u001b[0;34m)\u001b[0m\u001b[0;34m\u001b[0m\u001b[0m\n\u001b[1;32m      6\u001b[0m     \u001b[0;32mif\u001b[0m \u001b[0ml\u001b[0m \u001b[0;34m>=\u001b[0m \u001b[0mn\u001b[0m\u001b[0;34m:\u001b[0m\u001b[0;34m\u001b[0m\u001b[0m\n\u001b[0;32m----> 7\u001b[0;31m         \u001b[0;32mreturn\u001b[0m \u001b[0mint\u001b[0m\u001b[0;34m(\u001b[0m\u001b[0mstr\u001b[0m\u001b[0;34m(\u001b[0m\u001b[0mnumber\u001b[0m\u001b[0;34m)\u001b[0m\u001b[0;34m[\u001b[0m\u001b[0mn\u001b[0m\u001b[0;34m-\u001b[0m\u001b[0;36m1\u001b[0m\u001b[0;34m]\u001b[0m\u001b[0;34m)\u001b[0m\u001b[0;34m\u001b[0m\u001b[0m\n\u001b[0m\u001b[1;32m      8\u001b[0m     \u001b[0;32melse\u001b[0m\u001b[0;34m:\u001b[0m\u001b[0;34m\u001b[0m\u001b[0m\n\u001b[1;32m      9\u001b[0m         \u001b[0;32mreturn\u001b[0m \u001b[0;36m10\u001b[0m\u001b[0;34m\u001b[0m\u001b[0m\n",
      "\u001b[0;31mValueError\u001b[0m: invalid literal for int() with base 10: '['"
     ]
    }
   ],
   "source": [
    "train_dataset, train_labels = reformat(train_dataset, train_labels)"
   ]
  },
  {
   "cell_type": "code",
   "execution_count": 43,
   "metadata": {
    "collapsed": true
   },
   "outputs": [],
   "source": [
    "valid_dataset, valid_labels = reformat(valid_dataset, valid_labels)"
   ]
  },
  {
   "cell_type": "code",
   "execution_count": 44,
   "metadata": {
    "collapsed": true
   },
   "outputs": [],
   "source": [
    "test_dataset, test_labels = reformat(test_dataset, test_labels)"
   ]
  },
  {
   "cell_type": "code",
   "execution_count": 45,
   "metadata": {
    "collapsed": false
   },
   "outputs": [
    {
     "name": "stdout",
     "output_type": "stream",
     "text": [
      "Training set (28000, 54, 54, 3) (15000, 54, 54, 3)\n",
      "Validation set (7000, 54, 54, 3) (0, 6, 11)\n",
      "Test set (15000, 54, 54, 3) (15000, 6, 11)\n"
     ]
    }
   ],
   "source": [
    "\n",
    "\n",
    "print('Training set', train_dataset.shape, train_labels.shape)\n",
    "print('Validation set', valid_dataset.shape, valid_labels.shape)\n",
    "print('Test set', test_dataset.shape, test_labels.shape)"
   ]
  },
  {
   "cell_type": "code",
   "execution_count": 36,
   "metadata": {
    "collapsed": false
   },
   "outputs": [
    {
     "name": "stdout",
     "output_type": "stream",
     "text": [
      "88191\n"
     ]
    }
   ],
   "source": [
    "print(test_labels[8]) # compare with the last example image above"
   ]
  },
  {
   "cell_type": "code",
   "execution_count": 37,
   "metadata": {
    "collapsed": true
   },
   "outputs": [],
   "source": [
    "def ohe_to_housenumbers(ohe_labels):\n",
    "    lengths = ohe_labels[:,0,:]\n",
    "    digits1 = ohe_labels[:,1,:]\n",
    "    digits2 = ohe_labels[:,2,:]\n",
    "    digits3 = ohe_labels[:,3,:]\n",
    "    digits4 = ohe_labels[:,4,:]\n",
    "    digits5 = ohe_labels[:,5,:]\n",
    "    \n",
    "    num_labels = len(ohe_labels)\n",
    "    housenumbers = np.zeros(shape=num_labels, dtype=np.int)\n",
    "    \n",
    "    for i in range(num_labels):\n",
    "        l = np.argmax(lengths[i])\n",
    "        d1 = np.argmax(digits1[i])\n",
    "        d2 = np.argmax(digits2[i])\n",
    "        d3 = np.argmax(digits3[i])\n",
    "        d4 = np.argmax(digits4[i])\n",
    "        d5 = np.argmax(digits5[i])\n",
    "        d = str(d1)+str(d2)+str(d3)+str(d4)+str(d5)\n",
    "        housenumbers[i] = int(d[:min(l,5)])\n",
    "        \n",
    "    return housenumbers\n",
    "    "
   ]
  },
  {
   "cell_type": "code",
   "execution_count": 39,
   "metadata": {
    "collapsed": false
   },
   "outputs": [
    {
     "ename": "IndexError",
     "evalue": "too many indices for array",
     "output_type": "error",
     "traceback": [
      "\u001b[0;31m\u001b[0m",
      "\u001b[0;31mIndexError\u001b[0mTraceback (most recent call last)",
      "\u001b[0;32m<ipython-input-39-561a53548a2b>\u001b[0m in \u001b[0;36m<module>\u001b[0;34m()\u001b[0m\n\u001b[0;32m----> 1\u001b[0;31m \u001b[0;32mprint\u001b[0m\u001b[0;34m(\u001b[0m\u001b[0mohe_to_housenumbers\u001b[0m\u001b[0;34m(\u001b[0m\u001b[0mtest_labels\u001b[0m\u001b[0;34m[\u001b[0m\u001b[0;34m:\u001b[0m\u001b[0;36m9\u001b[0m\u001b[0;34m]\u001b[0m\u001b[0;34m)\u001b[0m\u001b[0;34m)\u001b[0m \u001b[0;31m# compare with example images above\u001b[0m\u001b[0;34m\u001b[0m\u001b[0m\n\u001b[0m",
      "\u001b[0;32m<ipython-input-37-deca88a71596>\u001b[0m in \u001b[0;36mohe_to_housenumbers\u001b[0;34m(ohe_labels)\u001b[0m\n\u001b[1;32m      1\u001b[0m \u001b[0;32mdef\u001b[0m \u001b[0mohe_to_housenumbers\u001b[0m\u001b[0;34m(\u001b[0m\u001b[0mohe_labels\u001b[0m\u001b[0;34m)\u001b[0m\u001b[0;34m:\u001b[0m\u001b[0;34m\u001b[0m\u001b[0m\n\u001b[0;32m----> 2\u001b[0;31m     \u001b[0mlengths\u001b[0m \u001b[0;34m=\u001b[0m \u001b[0mohe_labels\u001b[0m\u001b[0;34m[\u001b[0m\u001b[0;34m:\u001b[0m\u001b[0;34m,\u001b[0m\u001b[0;36m0\u001b[0m\u001b[0;34m,\u001b[0m\u001b[0;34m:\u001b[0m\u001b[0;34m]\u001b[0m\u001b[0;34m\u001b[0m\u001b[0m\n\u001b[0m\u001b[1;32m      3\u001b[0m     \u001b[0mdigits1\u001b[0m \u001b[0;34m=\u001b[0m \u001b[0mohe_labels\u001b[0m\u001b[0;34m[\u001b[0m\u001b[0;34m:\u001b[0m\u001b[0;34m,\u001b[0m\u001b[0;36m1\u001b[0m\u001b[0;34m,\u001b[0m\u001b[0;34m:\u001b[0m\u001b[0;34m]\u001b[0m\u001b[0;34m\u001b[0m\u001b[0m\n\u001b[1;32m      4\u001b[0m     \u001b[0mdigits2\u001b[0m \u001b[0;34m=\u001b[0m \u001b[0mohe_labels\u001b[0m\u001b[0;34m[\u001b[0m\u001b[0;34m:\u001b[0m\u001b[0;34m,\u001b[0m\u001b[0;36m2\u001b[0m\u001b[0;34m,\u001b[0m\u001b[0;34m:\u001b[0m\u001b[0;34m]\u001b[0m\u001b[0;34m\u001b[0m\u001b[0m\n\u001b[1;32m      5\u001b[0m     \u001b[0mdigits3\u001b[0m \u001b[0;34m=\u001b[0m \u001b[0mohe_labels\u001b[0m\u001b[0;34m[\u001b[0m\u001b[0;34m:\u001b[0m\u001b[0;34m,\u001b[0m\u001b[0;36m3\u001b[0m\u001b[0;34m,\u001b[0m\u001b[0;34m:\u001b[0m\u001b[0;34m]\u001b[0m\u001b[0;34m\u001b[0m\u001b[0m\n",
      "\u001b[0;31mIndexError\u001b[0m: too many indices for array"
     ]
    }
   ],
   "source": [
    "print(ohe_to_housenumbers(test_labels[:9])) # compare with example images above"
   ]
  }
 ],
 "metadata": {
  "anaconda-cloud": {},
  "kernelspec": {
   "display_name": "Python [conda root]",
   "language": "python",
   "name": "conda-root-py"
  },
  "language_info": {
   "codemirror_mode": {
    "name": "ipython",
    "version": 2
   },
   "file_extension": ".py",
   "mimetype": "text/x-python",
   "name": "python",
   "nbconvert_exporter": "python",
   "pygments_lexer": "ipython2",
   "version": "2.7.12"
  }
 },
 "nbformat": 4,
 "nbformat_minor": 1
}
